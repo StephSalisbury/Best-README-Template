{
  "nbformat": 4,
  "nbformat_minor": 0,
  "metadata": {
    "colab": {
      "name": "GA Model.ipynb",
      "provenance": [],
      "collapsed_sections": [],
      "authorship_tag": "ABX9TyON0m6AXSMcf9GcOpDlKkOo",
      "include_colab_link": true
    },
    "kernelspec": {
      "name": "python3",
      "display_name": "Python 3"
    },
    "language_info": {
      "name": "python"
    }
  },
  "cells": [
    {
      "cell_type": "markdown",
      "metadata": {
        "id": "view-in-github",
        "colab_type": "text"
      },
      "source": [
        "<a href=\"https://colab.research.google.com/github/StephSalisbury/Best-README-Template/blob/master/GA_Model.ipynb\" target=\"_parent\"><img src=\"https://colab.research.google.com/assets/colab-badge.svg\" alt=\"Open In Colab\"/></a>"
      ]
    },
    {
      "cell_type": "code",
      "metadata": {
        "id": "H2OfYEYTHvwk"
      },
      "source": [
        "import numpy as np\n",
        "import pandas as pd"
      ],
      "execution_count": null,
      "outputs": []
    },
    {
      "cell_type": "code",
      "metadata": {
        "id": "BbNzRo6LHpeQ"
      },
      "source": [
        "def cal_pop_fitness(equation_inputs, pop):\n",
        "    # Calculating the fitness value of each solution in the current population.\n",
        "    # The fitness function caulcuates the sum of products between each input and its corresponding weight.\n",
        "    fitness = np.zeros(len(pop))\n",
        "    for x in range(len(pop)):\n",
        "      a = (pop[x]*equation_inputs[0])\n",
        "      fitness[x] = (pop[x]*equation_inputs[0] + 23.9249841518046) + (pop[x]*equation_inputs[1] + 30.9506381540022) \n",
        "    return fitness\n",
        "\n",
        "def select_mating_pool(pop, fitness, num_parents):\n",
        "    # Selecting the best individuals in the current generation as parents for producing the offspring of the next generation.\n",
        "    parents = np.empty((num_parents, pop.shape[0]))\n",
        "    for parent_num in range(num_parents):\n",
        "        min_fitness_idx = np.where(fitness == np.min(fitness))\n",
        "        min_fitness_idx = min_fitness_idx[0]\n",
        "        parents[parent_num] = pop[min_fitness_idx][0]\n",
        "        fitness[min_fitness_idx] = 100\n",
        "    return parents\n",
        "\n",
        "def crossover(parents, offspring_size):\n",
        "    offspring = np.empty(offspring_size)\n",
        "    # The point at which crossover takes place between two parents. Usually it is at the center.\n",
        "    crossover_point = np.uint8(offspring_size[1]/2)\n",
        "\n",
        "    for k in range(offspring_size[0]):\n",
        "        # Index of the first parent to mate.\n",
        "        parent1_idx = k%parents.shape[0]\n",
        "        # Index of the second parent to mate.\n",
        "        parent2_idx = (k+1)%parents.shape[0]\n",
        "        # The new offspring will have its first half of its genes taken from the first parent.\n",
        "        offspring[k, 0:crossover_point] = parents[parent1_idx, 0:crossover_point]\n",
        "        # The new offspring will have its second half of its genes taken from the second parent.\n",
        "        offspring[k, crossover_point] = parents[parent2_idx, crossover_point]\n",
        "    return offspring\n",
        "\n",
        "def mutation(offspring_crossover):\n",
        "    # Mutation changes a single gene in each offspring randomly.\n",
        "    for idx in range(offspring_crossover.shape[0]):\n",
        "        # The random value to be added to the gene.\n",
        "        random_value = np.random.uniform(-1.0, 1.0, 1)\n",
        "        offspring_crossover[idx, 0] = offspring_crossover[idx, 0] + random_value\n",
        "    return offspring_crossover"
      ],
      "execution_count": null,
      "outputs": []
    },
    {
      "cell_type": "code",
      "metadata": {
        "id": "q8WxV6fDmFQx"
      },
      "source": [
        "# df = pd.read_csv(\"Tiempo Tanque.csv\")\n",
        "# df.tail()"
      ],
      "execution_count": null,
      "outputs": []
    },
    {
      "cell_type": "code",
      "metadata": {
        "id": "tg1fEaCrlUEK"
      },
      "source": [
        "\"\"\"\n",
        "Given the following function:\n",
        "    y = f(w1:w6) = v1x1 + v2x2\n",
        "What are the best values for the 6 weights (w1 to w6)? We are going to use the genetic algorithm to optimize this function.\n",
        "\"\"\"\n",
        "# Inputs of the equation.\n",
        "function_inputs = [-0.475445862564449, -0.855379934071507] # Function inputs.\n",
        "\n",
        "# Number of the weights we are looking to optimize.\n",
        "num_weights = 1\n",
        "\n",
        "#desired_output = 150 # Function output."
      ],
      "execution_count": null,
      "outputs": []
    },
    {
      "cell_type": "code",
      "metadata": {
        "id": "eiAc-REaIGzF"
      },
      "source": [
        "\"\"\"\n",
        "  Genetic algorithm parameters:\n",
        "  Mating pool size\n",
        "  Population size\n",
        "\"\"\"\n",
        "\n",
        "sol_per_pop = 8\n",
        "\n",
        "num_parents_mating = 4"
      ],
      "execution_count": null,
      "outputs": []
    },
    {
      "cell_type": "code",
      "metadata": {
        "colab": {
          "base_uri": "https://localhost:8080/"
        },
        "id": "JiIYwdiXIL4E",
        "outputId": "ac893eb7-2b48-44d9-eb52-da0f43f51fcd"
      },
      "source": [
        "# Defining the population size.\n",
        "\n",
        "pop_size = (sol_per_pop,num_weights) # The population will have sol_per_pop chromosome where each chromosome has num_weights genes.\n",
        "\n",
        "new_population = np.zeros(sol_per_pop)\n",
        "print(pop_size)\n",
        "#Creating the initial population.\n",
        "for i in range(sol_per_pop):\n",
        "  random_voltage = np.random.uniform(low=0, high=10.0)\n",
        "  new_population[i] = random_voltage\n",
        "  #new_population[i][1] = random_voltage\n",
        "print(new_population)"
      ],
      "execution_count": null,
      "outputs": [
        {
          "output_type": "stream",
          "name": "stdout",
          "text": [
            "(8, 1)\n",
            "[5.51311697 3.52031362 4.52327887 1.75847567 1.89525399 7.1679571\n",
            " 4.99123382 8.59451247]\n"
          ]
        }
      ]
    },
    {
      "cell_type": "code",
      "metadata": {
        "id": "8p_2-M5TIXLJ"
      },
      "source": [
        "num_generations = 5"
      ],
      "execution_count": null,
      "outputs": []
    },
    {
      "cell_type": "code",
      "metadata": {
        "colab": {
          "base_uri": "https://localhost:8080/"
        },
        "id": "GfClEWlBMjgo",
        "outputId": "5a92bd04-d99d-4ef0-f2b0-2d14be2ba692"
      },
      "source": [
        "for generation in range(num_generations):\n",
        "\n",
        "    print(\"Generation : \", generation)\n",
        "\n",
        "    # Measing the fitness of each chromosome in the population.\n",
        "\n",
        "    fitness = cal_pop_fitness(function_inputs, new_population)\n",
        "\n",
        "\n",
        "\n",
        "    # Selecting the best parents in the population for mating.\n",
        "\n",
        "    parents = select_mating_pool(new_population, fitness, \n",
        "\n",
        "                                      num_parents_mating)\n",
        "\n",
        "\n",
        "\n",
        "    # Generating next generation using crossover.\n",
        "\n",
        "    offspring_crossover = crossover(parents,\n",
        "\n",
        "                                       offspring_size=(pop_size[0]-parents.shape[0], num_weights))\n",
        "\n",
        "\n",
        "\n",
        "    # Adding some variations to the offsrping using mutation.\n",
        "\n",
        "    offspring_mutation = mutation(offspring_crossover)\n",
        "\n",
        "\n",
        "\n",
        "    # Creating the new population based on the parents and offspring.\n",
        "    for x in range(len(parents)):\n",
        "      new_population[x] = parents[0][x]\n",
        "    \n",
        "    for x in range(new_population.shape[0]):\n",
        "      if x < 3:\n",
        "        new_population[x] = offspring_mutation[x][0]\n",
        "\n",
        "    # The best result in the current iteration.\n",
        "    for x in range(parents.shape[0]):\n",
        "      parents[x] = (parents[x]*function_inputs[0] + 23.9249841518046) + (parents[x]*function_inputs[1] + 30.9506381540022) \n",
        "    print(\"Best result : \", np.min(fitness))\n"
      ],
      "execution_count": null,
      "outputs": [
        {
          "output_type": "stream",
          "name": "stdout",
          "text": [
            "Generation :  0\n",
            "Best result :  48.85592610143731\n",
            "Generation :  1\n",
            "Best result :  48.23315958218008\n",
            "Generation :  2\n",
            "Best result :  47.20516540459225\n",
            "Generation :  3\n",
            "Best result :  46.68018649381179\n",
            "Generation :  4\n",
            "Best result :  46.559719982682154\n"
          ]
        }
      ]
    },
    {
      "cell_type": "code",
      "metadata": {
        "id": "LvbsG5H0PH3Q"
      },
      "source": [
        "# Getting the best solution after iterating finishing all generations.\n",
        "\n",
        "#At first, the fitness is calculated for each solution in the final generation.\n",
        "\n",
        "fitness = cal_pop_fitness(function_inputs, new_population)"
      ],
      "execution_count": null,
      "outputs": []
    },
    {
      "cell_type": "code",
      "metadata": {
        "id": "nJ3Xe79q9RSL",
        "colab": {
          "base_uri": "https://localhost:8080/"
        },
        "outputId": "af6df008-74f6-4d6a-a462-b2bf46a57832"
      },
      "source": [
        "print(new_population)"
      ],
      "execution_count": null,
      "outputs": [
        {
          "output_type": "stream",
          "name": "stdout",
          "text": [
            "[7.33636632 7.13671084 7.34800128 8.59451247 1.89525399 7.1679571\n",
            " 4.99123382 8.59451247]\n"
          ]
        }
      ]
    },
    {
      "cell_type": "code",
      "metadata": {
        "id": "wDPnJz1X9ZEw",
        "colab": {
          "base_uri": "https://localhost:8080/"
        },
        "outputId": "a71299ce-47fd-43f7-ed82-68851001f38f"
      },
      "source": [
        "print(fitness)"
      ],
      "execution_count": null,
      "outputs": [
        {
          "output_type": "stream",
          "name": "stdout",
          "text": [
            "[45.11219676 45.37790342 45.09671264 43.4378234  52.3533694  45.33632009\n",
            " 48.23315958 43.4378234 ]\n"
          ]
        }
      ]
    },
    {
      "cell_type": "code",
      "metadata": {
        "id": "-rttj7TwPpYq",
        "colab": {
          "base_uri": "https://localhost:8080/"
        },
        "outputId": "ddac0645-5474-41e4-9bbe-87b5b9ffa51a"
      },
      "source": [
        "# Then return the index of that solution corresponding to the best fitness.\n",
        "\n",
        "best_match_idx = np.where(fitness == np.min(fitness))\n",
        "\n",
        "print(\"Best solution : \", new_population[best_match_idx])\n",
        "\n",
        "print(\"Best solution fitness : \", fitness[best_match_idx])"
      ],
      "execution_count": null,
      "outputs": [
        {
          "output_type": "stream",
          "name": "stdout",
          "text": [
            "Best solution :  [8.59451247 8.59451247]\n",
            "Best solution fitness :  [43.4378234 43.4378234]\n"
          ]
        }
      ]
    },
    {
      "cell_type": "code",
      "metadata": {
        "id": "e10Uzw2iaf0C"
      },
      "source": [
        "time_1 = new_population[best_match_idx]*function_inputs[0] + 23.9249841518046\n",
        "time_2 = new_population[best_match_idx]*function_inputs[1] + 30.9506381540022 "
      ],
      "execution_count": null,
      "outputs": []
    },
    {
      "cell_type": "code",
      "metadata": {
        "colab": {
          "base_uri": "https://localhost:8080/"
        },
        "id": "GsZjMNUMcCJy",
        "outputId": "41f4eb59-eba5-4aaf-ad17-da5d0e487971"
      },
      "source": [
        "print(\"Tiempo 1: \", time_1)\n",
        "print(\"Tiempo 2: \", time_2)"
      ],
      "execution_count": null,
      "outputs": [
        {
          "output_type": "stream",
          "name": "stdout",
          "text": [
            "Tiempo 1:  [19.83875876 19.83875876]\n",
            "Tiempo 2:  [23.59906464 23.59906464]\n"
          ]
        }
      ]
    },
    {
      "cell_type": "code",
      "metadata": {
        "colab": {
          "base_uri": "https://localhost:8080/"
        },
        "id": "G7Yl24jNcKuT",
        "outputId": "95e04032-1af9-4456-d226-3a1020c426ee"
      },
      "source": [
        "print(\"Vpmax: \", new_population[best_match_idx] + 2.39438717948718)"
      ],
      "execution_count": null,
      "outputs": [
        {
          "output_type": "stream",
          "name": "stdout",
          "text": [
            "Vpmax:  [10.98889965 10.98889965]\n"
          ]
        }
      ]
    },
    {
      "cell_type": "code",
      "source": [
        ""
      ],
      "metadata": {
        "id": "iglsYVGTZqdJ"
      },
      "execution_count": null,
      "outputs": []
    }
  ]
}